{
  "nbformat": 4,
  "nbformat_minor": 0,
  "metadata": {
    "colab": {
      "provenance": [],
      "authorship_tag": "ABX9TyOyv+Uoz/NEpZx7HEXVS5yW",
      "include_colab_link": true
    },
    "kernelspec": {
      "name": "python3",
      "display_name": "Python 3"
    },
    "language_info": {
      "name": "python"
    }
  },
  "cells": [
    {
      "cell_type": "markdown",
      "metadata": {
        "id": "view-in-github",
        "colab_type": "text"
      },
      "source": [
        "<a href=\"https://colab.research.google.com/github/Marcortesca/SegundoEjemploIO_1/blob/main/IO1.ipynb\" target=\"_parent\"><img src=\"https://colab.research.google.com/assets/colab-badge.svg\" alt=\"Open In Colab\"/></a>"
      ]
    },
    {
      "cell_type": "markdown",
      "source": [
        "# Primer ejercicio\n",
        "## Esto es un subtìtulo\n",
        "Esto es texto normal"
      ],
      "metadata": {
        "id": "0clpUtUr3xyj"
      }
    },
    {
      "cell_type": "code",
      "execution_count": 3,
      "metadata": {
        "colab": {
          "base_uri": "https://localhost:8080/"
        },
        "id": "YqD8cQeB2_Gq",
        "outputId": "500498a7-22f8-4560-ecbe-6684f3de0b71"
      },
      "outputs": [
        {
          "output_type": "stream",
          "name": "stdout",
          "text": [
            "Buenos días mundo\n"
          ]
        }
      ],
      "source": [
        "print(\"Buenos días mundo\")"
      ]
    },
    {
      "cell_type": "markdown",
      "source": [
        "# Segundo ejercicio"
      ],
      "metadata": {
        "id": "NZkh9hcm4UVt"
      }
    },
    {
      "cell_type": "code",
      "source": [
        "print(\"Buenos días, Maribel\")"
      ],
      "metadata": {
        "colab": {
          "base_uri": "https://localhost:8080/"
        },
        "id": "0hSwha_r4ZxM",
        "outputId": "1b294b27-55f2-4959-990e-8b0414c82874"
      },
      "execution_count": 4,
      "outputs": [
        {
          "output_type": "stream",
          "name": "stdout",
          "text": [
            "Buenos días, Maribel\n"
          ]
        }
      ]
    }
  ]
}